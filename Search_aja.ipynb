{
 "cells": [
  {
   "cell_type": "code",
   "execution_count": 548,
   "metadata": {
    "collapsed": false
   },
   "outputs": [],
   "source": [
    "import nltk\n",
    "import math\n",
    "import sys\n",
    "import PyPDF2\n",
    "import glob\n",
    "import docx2txt\n",
    "import string\n",
    "import StringIO\n",
    "from nltk.corpus import stopwords\n",
    "from stemming.porter2 import stem\n",
    "from glob import glob\n",
    "from os.path import join, abspath\n",
    "from os import listdir, getcwd\n",
    "from operator import itemgetter \n",
    "stopWords = set(stopwords.words('english'))"
   ]
  },
  {
   "cell_type": "code",
   "execution_count": 549,
   "metadata": {
    "collapsed": false
   },
   "outputs": [],
   "source": [
    "import glob\n",
    "worddokumen = glob.glob(\"dokumen/*.docx\")\n",
    "pdfdokumen = glob.glob(\"dokumen/*.pdf\")\n",
    "txtdokumen = glob.glob(\"dokumen/*.txt\")"
   ]
  },
  {
   "cell_type": "code",
   "execution_count": 550,
   "metadata": {
    "collapsed": true
   },
   "outputs": [],
   "source": [
    "dokumen = {}"
   ]
  },
  {
   "cell_type": "code",
   "execution_count": 551,
   "metadata": {
    "collapsed": false
   },
   "outputs": [],
   "source": [
    "for i in worddokumen:\n",
    "    text = docx2txt.process(i)\n",
    "    dokumen[i[8:]] = text\n",
    "for i in txtdokumen:\n",
    "    file = open(i, 'r')\n",
    "    dokumen[i[8:]] = file.read()\n",
    "for i in pdfdokumen:\n",
    "    pdfFileObj = open(i, 'rb')\n",
    "    pdfReader = PyPDF2.PdfFileReader(pdfFileObj)\n",
    "    page = pdfReader.numPages\n",
    "    for k in range(0,page):\n",
    "        pageObj = pdfReader.getPage(0)\n",
    "        pageObj.extractText()\n",
    "        dokumen[i[8:]] = pageObj.extractText()"
   ]
  },
  {
   "cell_type": "code",
   "execution_count": 552,
   "metadata": {
    "collapsed": false
   },
   "outputs": [
    {
     "data": {
      "text/plain": [
       "['tes.docx', 'memasak.txt', 'tes.pdf']"
      ]
     },
     "execution_count": 552,
     "metadata": {},
     "output_type": "execute_result"
    }
   ],
   "source": [
    "dokumen.keys()"
   ]
  },
  {
   "cell_type": "code",
   "execution_count": 553,
   "metadata": {
    "collapsed": false
   },
   "outputs": [
    {
     "data": {
      "text/plain": [
       "[u'I want you to be my girl.',\n",
       " 'I want guys, and i will always love you. fuck you',\n",
       " u'Cause love never be so good. Oh yeah\\n \\n']"
      ]
     },
     "execution_count": 553,
     "metadata": {},
     "output_type": "execute_result"
    }
   ],
   "source": [
    "dokumen.values()"
   ]
  },
  {
   "cell_type": "code",
   "execution_count": 554,
   "metadata": {
    "collapsed": true
   },
   "outputs": [],
   "source": [
    "def strip_punctuation(s):\n",
    "    return ''.join(c for c in s if c not in string.punctuation)"
   ]
  },
  {
   "cell_type": "code",
   "execution_count": 555,
   "metadata": {
    "collapsed": false
   },
   "outputs": [],
   "source": [
    "for key, value in (sorted(dokumen.items(), key = itemgetter(0))):\n",
    "    dokumen[key] = strip_punctuation(dokumen[key])\n",
    "    dokumen[key] = dokumen[key].lower()"
   ]
  },
  {
   "cell_type": "code",
   "execution_count": 556,
   "metadata": {
    "collapsed": false
   },
   "outputs": [
    {
     "data": {
      "text/plain": [
       "[u'i want you to be my girl',\n",
       " 'i want guys and i will always love you fuck you',\n",
       " u'cause love never be so good oh yeah\\n \\n']"
      ]
     },
     "execution_count": 556,
     "metadata": {},
     "output_type": "execute_result"
    }
   ],
   "source": [
    "dokumen.values()"
   ]
  },
  {
   "cell_type": "code",
   "execution_count": 557,
   "metadata": {
    "collapsed": true
   },
   "outputs": [],
   "source": [
    "index = {}\n",
    "katak = {}"
   ]
  },
  {
   "cell_type": "code",
   "execution_count": 558,
   "metadata": {
    "collapsed": false
   },
   "outputs": [],
   "source": [
    "for key, value in (sorted(dokumen.items(), key = itemgetter(0))):\n",
    "    kata = value.split()\n",
    "    for i in kata:\n",
    "        index[i.encode(\"utf-8\")] = []\n",
    "        katak[i.encode(\"utf-8\")] = []"
   ]
  },
  {
   "cell_type": "code",
   "execution_count": 559,
   "metadata": {
    "collapsed": true
   },
   "outputs": [],
   "source": [
    "proxindex = {}"
   ]
  },
  {
   "cell_type": "code",
   "execution_count": 560,
   "metadata": {
    "collapsed": false
   },
   "outputs": [],
   "source": [
    "for key, value in (sorted(dokumen.items(), key = itemgetter(0))):\n",
    "    kata = value.split()\n",
    "    for i in kata:\n",
    "        proxindex[i.encode(\"utf-8\")] = []\n",
    "    indeks=1\n",
    "    for i in kata:\n",
    "        proxindex[i.encode(\"utf-8\")].append(indeks)\n",
    "        indeks+=1\n",
    "    for i in proxindex.keys():\n",
    "        index[i.encode(\"utf-8\")].append((key,proxindex[i.encode(\"utf-8\")]))\n",
    "        #index[i.encode(\"utf-8\")] = {key:proxindex[i.encode(\"utf-8\")]}\n",
    "    proxindex.clear()"
   ]
  },
  {
   "cell_type": "code",
   "execution_count": 561,
   "metadata": {
    "collapsed": true
   },
   "outputs": [],
   "source": [
    "from collections import defaultdict\n",
    "tfperdoc = defaultdict(dict)"
   ]
  },
  {
   "cell_type": "code",
   "execution_count": 562,
   "metadata": {
    "collapsed": false
   },
   "outputs": [],
   "source": [
    "for key, value in (sorted(dokumen.items(), key = itemgetter(0))):\n",
    "    kata = value.split()\n",
    "    temp = {}\n",
    "    index = 1\n",
    "    for i in kata:\n",
    "        temp[i.encode(\"utf-8\")] = []\n",
    "    for i in kata:\n",
    "        temp[i.encode(\"utf-8\")].append(index)\n",
    "        index+=1\n",
    "    for i in kata:\n",
    "        tfperdoc[key][i.encode(\"utf-8\")] = temp[i.encode(\"utf-8\")]"
   ]
  },
  {
   "cell_type": "code",
   "execution_count": 586,
   "metadata": {
    "collapsed": false
   },
   "outputs": [],
   "source": [
    "#Enter a query\n",
    "query = 'i want you'"
   ]
  },
  {
   "cell_type": "code",
   "execution_count": 587,
   "metadata": {
    "collapsed": false
   },
   "outputs": [],
   "source": [
    "search = query.split()"
   ]
  },
  {
   "cell_type": "code",
   "execution_count": 588,
   "metadata": {
    "collapsed": false
   },
   "outputs": [],
   "source": [
    "scoreweight = {}\n",
    "dfbigram = {}"
   ]
  },
  {
   "cell_type": "code",
   "execution_count": 589,
   "metadata": {
    "collapsed": false
   },
   "outputs": [
    {
     "data": {
      "text/plain": [
       "{'always': [7],\n",
       " 'and': [4],\n",
       " 'fuck': [10],\n",
       " 'guys': [3],\n",
       " 'i': [1, 5],\n",
       " 'love': [8],\n",
       " 'want': [2],\n",
       " 'will': [6],\n",
       " 'you': [9, 11]}"
      ]
     },
     "execution_count": 589,
     "metadata": {},
     "output_type": "execute_result"
    }
   ],
   "source": [
    "tfperdoc['memasak.txt']"
   ]
  },
  {
   "cell_type": "code",
   "execution_count": 590,
   "metadata": {
    "collapsed": true
   },
   "outputs": [],
   "source": [
    "for i in range(1,len(search)):\n",
    "        dfbigram[search[i-1]+search[i]] = 0"
   ]
  },
  {
   "cell_type": "code",
   "execution_count": 591,
   "metadata": {
    "collapsed": false
   },
   "outputs": [],
   "source": [
    "for key, value in (sorted(dokumen.items(), key = itemgetter(0))):\n",
    "    lokasi = {}\n",
    "    kata = value.split()\n",
    "    index =1 \n",
    "    for i in kata:\n",
    "        lokasi[index] = i\n",
    "        index+=1\n",
    "    for i in range(1,len(search)):\n",
    "        try:\n",
    "            for k in range(0,len(tfperdoc[key][search[i]])):\n",
    "                temp = tfperdoc[key][search[i]][k]\n",
    "                if(temp-1>=0 and lokasi[temp-1]==search[i-1]):\n",
    "                    dfbigram[search[i-1]+search[i]]+=1\n",
    "        except Exception:\n",
    "            pass"
   ]
  },
  {
   "cell_type": "code",
   "execution_count": 592,
   "metadata": {
    "collapsed": false
   },
   "outputs": [
    {
     "name": "stdout",
     "output_type": "stream",
     "text": [
      "iwant 2\n",
      "wantyou 1\n"
     ]
    }
   ],
   "source": [
    "for key, value in (sorted(dfbigram.items(), key = itemgetter(0))):\n",
    "    print key,value"
   ]
  },
  {
   "cell_type": "code",
   "execution_count": 595,
   "metadata": {
    "collapsed": false
   },
   "outputs": [],
   "source": [
    "for key, value in (sorted(dokumen.items(), key = itemgetter(0))):\n",
    "    scoreweight[key] = 0\n",
    "    bigram = {}\n",
    "    lokasi = {}\n",
    "    kata = value.split()\n",
    "    index =1 \n",
    "    for i in kata:\n",
    "        lokasi[index] = i\n",
    "        index+=1\n",
    "    for i in range(1,len(search)):\n",
    "        bigram[search[i-1]+search[i]] = 0\n",
    "        try:\n",
    "            for k in range(0,len(tfperdoc[key][search[i]])):\n",
    "                temp = tfperdoc[key][search[i]][k]\n",
    "                if(temp-1>=0 and lokasi[temp-1]==search[i-1]):\n",
    "                    bigram[search[i-1]+search[i]]+=1\n",
    "        except Exception:\n",
    "            pass\n",
    "    for key1, value1 in (sorted(bigram.items(), key = itemgetter(0))):\n",
    "        if(value1>0 and dfbigram[key1]>0):\n",
    "            dff = math.log10(len(dokumen)/float(dfbigram[key1]))\n",
    "            tff = (1+math.log10(float(value1)))\n",
    "            scoreweight[key] += (tff+dff)"
   ]
  },
  {
   "cell_type": "code",
   "execution_count": 601,
   "metadata": {
    "collapsed": false
   },
   "outputs": [
    {
     "name": "stdout",
     "output_type": "stream",
     "text": [
      "dokumen :  tes.docx dengan score :  2.65321251378\n",
      "dokumen :  memasak.txt dengan score :  1.17609125906\n"
     ]
    }
   ],
   "source": [
    "for key1, value1 in (sorted(scoreweight.items(), key = itemgetter(0),reverse=True)):\n",
    "    if(value1>0):\n",
    "        print \"dokumen : \",key1,\"dengan score : \",value1"
   ]
  },
  {
   "cell_type": "code",
   "execution_count": null,
   "metadata": {
    "collapsed": true
   },
   "outputs": [],
   "source": []
  }
 ],
 "metadata": {
  "anaconda-cloud": {},
  "kernelspec": {
   "display_name": "Python [Root]",
   "language": "python",
   "name": "Python [Root]"
  },
  "language_info": {
   "codemirror_mode": {
    "name": "ipython",
    "version": 2
   },
   "file_extension": ".py",
   "mimetype": "text/x-python",
   "name": "python",
   "nbconvert_exporter": "python",
   "pygments_lexer": "ipython2",
   "version": "2.7.12"
  }
 },
 "nbformat": 4,
 "nbformat_minor": 2
}
